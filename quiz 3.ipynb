{
 "cells": [
  {
   "cell_type": "code",
   "execution_count": 1,
   "id": "eb4089e5-ed12-4d1b-acea-a93510d68344",
   "metadata": {},
   "outputs": [
    {
     "name": "stdout",
     "output_type": "stream",
     "text": [
      "[1]\n",
      "[2]\n",
      "[3]\n",
      "[4]\n"
     ]
    }
   ],
   "source": [
    "l = [1,2,3,4]\n",
    "for i in l:\n",
    "    print([i])"
   ]
  },
  {
   "cell_type": "code",
   "execution_count": 8,
   "id": "5ff86c51-fef5-4995-bfd0-8780da07bbdd",
   "metadata": {},
   "outputs": [
    {
     "name": "stdout",
     "output_type": "stream",
     "text": [
      "[0]\n",
      "[1]\n",
      "[2]\n",
      "[3]\n",
      "[4]\n",
      "[5]\n",
      "[6]\n",
      "[7]\n",
      "[8]\n",
      "[9]\n",
      "[10]\n",
      "[11]\n"
     ]
    }
   ],
   "source": [
    "i = 0 \n",
    "n = 11\n",
    "while i <= n:\n",
    "    print([i])\n",
    "    i = i+1"
   ]
  },
  {
   "cell_type": "code",
   "execution_count": 7,
   "id": "5712a927-548a-4ebf-a0e4-85c0ec03fa4f",
   "metadata": {},
   "outputs": [
    {
     "name": "stdout",
     "output_type": "stream",
     "text": [
      "1\n",
      "2\n",
      "3\n",
      "4\n",
      "5\n",
      "6\n",
      "7\n",
      "8\n",
      "9\n",
      "10\n"
     ]
    }
   ],
   "source": [
    "i = 1\n",
    "while i <11:\n",
    "    print(i)\n",
    "    i = i+1\n",
    "    "
   ]
  },
  {
   "cell_type": "code",
   "execution_count": 15,
   "id": "51d4c2aa-a1fb-4abb-8e6c-f3c85049d690",
   "metadata": {},
   "outputs": [
    {
     "name": "stdin",
     "output_type": "stream",
     "text": [
      "enter your bill: 310\n"
     ]
    },
    {
     "name": "stdout",
     "output_type": "stream",
     "text": [
      "1850.0\n"
     ]
    }
   ],
   "source": [
    "bill = int(input(\"enter your bill:\"))\n",
    "if bill <= 100:\n",
    "    bill = 100*4.5\n",
    "elif bill <=200:\n",
    "    bill=100*6 + (bill-200)*6\n",
    "elif bill <= 300:\n",
    "    bill = 100*4.5 + 200*6 + (bill-300)*10\n",
    "else:\n",
    "    bill= 100*4.5 + 200*6 +300*10 + (bill-450)*20\n",
    "    \n",
    "print(bill)\n",
    "    "
   ]
  },
  {
   "cell_type": "code",
   "execution_count": 7,
   "id": "16a2ae57-96c7-4a01-8aa4-8308d9bb9512",
   "metadata": {},
   "outputs": [
    {
     "name": "stdout",
     "output_type": "stream",
     "text": [
      "[1, 3, 2, 4, 4, 1, 3, 2, 4, 4, 1, 3, 2, 4, 4, 1, 3, 2, 4, 4, 1, 3, 2, 4, 4, 1, 3, 2, 4, 4, 1, 3, 2, 4, 4, 1, 3, 2, 4, 4, 1, 3, 2, 4, 4, 1, 3, 2, 4, 4, 1, 3, 2, 4, 4, 1, 3, 2, 4, 4, 1, 3, 2, 4, 4, 1, 3, 2, 4, 4, 1, 3, 2, 4, 4, 1, 3, 2, 4, 4, 1, 3, 2, 4, 4, 1, 3, 2, 4, 4, 1, 3, 2, 4, 4, 1, 3, 2, 4]\n"
     ]
    }
   ],
   "source": [
    "x = []\n",
    "for i in range(1,100):\n",
    "    x.append(i**3% 5 or 4)\n",
    "print(x)"
   ]
  },
  {
   "cell_type": "code",
   "execution_count": 21,
   "id": "50654682-2693-4c44-ba59-dacd1ec1a981",
   "metadata": {},
   "outputs": [
    {
     "ename": "NameError",
     "evalue": "name 'vowel' is not defined",
     "output_type": "error",
     "traceback": [
      "\u001b[0;31m---------------------------------------------------------------------------\u001b[0m",
      "\u001b[0;31mNameError\u001b[0m                                 Traceback (most recent call last)",
      "Cell \u001b[0;32mIn[21], line 5\u001b[0m\n\u001b[1;32m      3\u001b[0m \u001b[38;5;28;01mfor\u001b[39;00m i \u001b[38;5;129;01min\u001b[39;00m string:\n\u001b[1;32m      4\u001b[0m     \u001b[38;5;28;01mif\u001b[39;00m(i\u001b[38;5;241m==\u001b[39m\u001b[38;5;124m'\u001b[39m\u001b[38;5;124ma\u001b[39m\u001b[38;5;124m'\u001b[39m \u001b[38;5;129;01mor\u001b[39;00m i\u001b[38;5;241m==\u001b[39m\u001b[38;5;124m'\u001b[39m\u001b[38;5;124mi\u001b[39m\u001b[38;5;124m'\u001b[39m \u001b[38;5;129;01mor\u001b[39;00m i\u001b[38;5;241m==\u001b[39m\u001b[38;5;124m'\u001b[39m\u001b[38;5;124me\u001b[39m\u001b[38;5;124m'\u001b[39m \u001b[38;5;129;01mor\u001b[39;00m i \u001b[38;5;241m==\u001b[39m\u001b[38;5;124m'\u001b[39m\u001b[38;5;124mo\u001b[39m\u001b[38;5;124m'\u001b[39m \u001b[38;5;129;01mor\u001b[39;00m i\u001b[38;5;241m==\u001b[39m\u001b[38;5;124m'\u001b[39m\u001b[38;5;124mu\u001b[39m\u001b[38;5;124m'\u001b[39m):\n\u001b[0;32m----> 5\u001b[0m         vowel \u001b[38;5;241m=\u001b[39m \u001b[43mvowel\u001b[49m \u001b[38;5;241m+\u001b[39m \u001b[38;5;241m1\u001b[39m\n\u001b[1;32m      7\u001b[0m \u001b[38;5;28mprint\u001b[39m(\u001b[38;5;124m\"\u001b[39m\u001b[38;5;124mnumber of vowel in this string are:\u001b[39m\u001b[38;5;124m\"\u001b[39m)\n\u001b[1;32m      8\u001b[0m \u001b[38;5;28mprint\u001b[39m(i)    \n",
      "\u001b[0;31mNameError\u001b[0m: name 'vowel' is not defined"
     ]
    }
   ],
   "source": [
    "string = \"i want to become a data scientist\"\n",
    "vowels = 0\n",
    "for i in string:\n",
    "    if(i=='a' or i=='i' or i=='e' or i =='o' or i=='u'):\n",
    "        vowel = vowel + 1\n",
    "    \n",
    "print(\"number of vowel in this string are:\")\n",
    "print(i)    "
   ]
  },
  {
   "cell_type": "code",
   "execution_count": 23,
   "id": "ef430c22-de07-46f5-aaca-de1268377400",
   "metadata": {},
   "outputs": [
    {
     "name": "stdout",
     "output_type": "stream",
     "text": [
      "number of vowels in this string:\n",
      "0\n"
     ]
    }
   ],
   "source": [
    "s = \"i want to become a data scientist\"\n",
    "vowel = 0\n",
    "for i in s:\n",
    "    if(i=='a' or i == 'i' or i == 'e' or i == 'o' or i == 'u'):\n",
    "        vowel = vowel + 1\n",
    "print(\"number of vowels in this string:\")\n",
    "print(vowels)"
   ]
  },
  {
   "cell_type": "code",
   "execution_count": null,
   "id": "c68cdc79-ad16-40d5-9e78-a76abb8224a1",
   "metadata": {},
   "outputs": [],
   "source": []
  }
 ],
 "metadata": {
  "kernelspec": {
   "display_name": "Python 3 (ipykernel)",
   "language": "python",
   "name": "python3"
  },
  "language_info": {
   "codemirror_mode": {
    "name": "ipython",
    "version": 3
   },
   "file_extension": ".py",
   "mimetype": "text/x-python",
   "name": "python",
   "nbconvert_exporter": "python",
   "pygments_lexer": "ipython3",
   "version": "3.10.8"
  }
 },
 "nbformat": 4,
 "nbformat_minor": 5
}
